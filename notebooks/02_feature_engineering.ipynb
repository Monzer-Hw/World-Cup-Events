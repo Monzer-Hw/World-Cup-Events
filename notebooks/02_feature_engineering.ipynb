{
 "cells": [
  {
   "cell_type": "markdown",
   "metadata": {},
   "source": [
    "## IMPORTS"
   ]
  },
  {
   "cell_type": "markdown",
   "metadata": {},
   "source": [
    "#### Standards"
   ]
  },
  {
   "cell_type": "code",
   "execution_count": 169,
   "metadata": {},
   "outputs": [],
   "source": [
    "from pathlib import Path"
   ]
  },
  {
   "cell_type": "markdown",
   "metadata": {},
   "source": [
    "#### Externals"
   ]
  },
  {
   "cell_type": "code",
   "execution_count": 170,
   "metadata": {},
   "outputs": [],
   "source": [
    "import warnings\n",
    "import pandas as pd"
   ]
  },
  {
   "cell_type": "markdown",
   "metadata": {},
   "source": [
    "## CONFIGS"
   ]
  },
  {
   "cell_type": "markdown",
   "metadata": {},
   "source": [
    "#### Folders"
   ]
  },
  {
   "cell_type": "code",
   "execution_count": 171,
   "metadata": {},
   "outputs": [],
   "source": [
    "ROOT = Path(\"../\")\n",
    "RAW = ROOT / \"data/raw\"\n",
    "PROCESSED = ROOT / \"data/processed\"\n",
    "CACHE  = str(ROOT / \".mypycache\")"
   ]
  },
  {
   "cell_type": "markdown",
   "metadata": {},
   "source": [
    "## OPTIONS"
   ]
  },
  {
   "cell_type": "markdown",
   "metadata": {},
   "source": [
    "#### Warnings"
   ]
  },
  {
   "cell_type": "code",
   "execution_count": 172,
   "metadata": {},
   "outputs": [],
   "source": [
    "warnings.filterwarnings(\"ignore\")"
   ]
  },
  {
   "cell_type": "markdown",
   "metadata": {},
   "source": [
    "## DATASETS"
   ]
  },
  {
   "cell_type": "code",
   "execution_count": 173,
   "metadata": {},
   "outputs": [],
   "source": [
    "matches = pd.read_csv(PROCESSED/'matches.csv')\n",
    "players_teams = pd.read_csv(PROCESSED/'players_teams.csv')\n",
    "attendance = pd.read_csv(PROCESSED/'attendance.csv')\n",
    "stadiums = pd.read_csv(RAW/'stadiums.csv')\n",
    "players = pd.read_csv(RAW/'players.csv')\n",
    "squads = pd.read_csv(RAW/'squads.csv')\n",
    "tournaments = pd.read_csv(RAW/'tournaments.csv')\n",
    "goals =  pd.read_csv(RAW/'goals.csv')"
   ]
  },
  {
   "cell_type": "markdown",
   "metadata": {},
   "source": [
    "## FEATURE ENGINEERING"
   ]
  },
  {
   "cell_type": "markdown",
   "metadata": {},
   "source": [
    "<span style=\"display:inline-block;\">The following features will be created:<br> \n",
    "<span style=\"color:blue; font-style:italic;\">- total goals in match</span>, <span style=\"color:blue; font-style:italic;\">match for host</span> (binary feature indicates if the host team is playing) and <span style=\"color:blue; font-style:italic;\">used capacity ratio</span> in the matches table.<br>\n",
    "<span style=\"color:blue; font-style:italic;\">- attendance category</span> depending on the attendance feature and <span style=\"color:blue; font-style:italic;\">relative attendance category</span> depending on the used capacity ratio feature using Discretization<br>\n",
    "<span style=\"color:blue; font-style:italic;\">- host country code, tournament year, full name</span> (for players in a readable format).<br>\n",
    "<span style=\"color:blue; font-style:italic;\">- winner code</span> in tournaments table<br>\n",
    "<span style=\"color:blue; font-style:italic;\">- short stage name</span> which includes knockout and group stages only.<br>\n",
    "<span style=\"color:blue; font-style:italic;\">- late goal</span> (binary feature denotes whether a goal was scored late in the match), we'll see that the goal minute and halftime of the match can be helpful for this feature.."
   ]
  },
  {
   "cell_type": "markdown",
   "metadata": {},
   "source": [
    "#### <span style=\"color:#007BF1; font-style:italic;\">Total goals in match feature</span>"
   ]
  },
  {
   "cell_type": "code",
   "execution_count": 174,
   "metadata": {},
   "outputs": [
    {
     "data": {
      "text/html": [
       "<div>\n",
       "<style scoped>\n",
       "    .dataframe tbody tr th:only-of-type {\n",
       "        vertical-align: middle;\n",
       "    }\n",
       "\n",
       "    .dataframe tbody tr th {\n",
       "        vertical-align: top;\n",
       "    }\n",
       "\n",
       "    .dataframe thead th {\n",
       "        text-align: right;\n",
       "    }\n",
       "</style>\n",
       "<table border=\"1\" class=\"dataframe\">\n",
       "  <thead>\n",
       "    <tr style=\"text-align: right;\">\n",
       "      <th></th>\n",
       "      <th>home_team_score</th>\n",
       "      <th>away_team_score</th>\n",
       "      <th>score</th>\n",
       "      <th>score_penalties</th>\n",
       "      <th>total_goals_in_match</th>\n",
       "    </tr>\n",
       "  </thead>\n",
       "  <tbody>\n",
       "    <tr>\n",
       "      <th>0</th>\n",
       "      <td>4</td>\n",
       "      <td>1</td>\n",
       "      <td>4–1</td>\n",
       "      <td>0-0</td>\n",
       "      <td>5</td>\n",
       "    </tr>\n",
       "    <tr>\n",
       "      <th>1</th>\n",
       "      <td>3</td>\n",
       "      <td>0</td>\n",
       "      <td>3–0</td>\n",
       "      <td>0-0</td>\n",
       "      <td>3</td>\n",
       "    </tr>\n",
       "    <tr>\n",
       "      <th>2</th>\n",
       "      <td>2</td>\n",
       "      <td>1</td>\n",
       "      <td>2–1</td>\n",
       "      <td>0-0</td>\n",
       "      <td>3</td>\n",
       "    </tr>\n",
       "    <tr>\n",
       "      <th>3</th>\n",
       "      <td>3</td>\n",
       "      <td>1</td>\n",
       "      <td>3–1</td>\n",
       "      <td>0-0</td>\n",
       "      <td>4</td>\n",
       "    </tr>\n",
       "    <tr>\n",
       "      <th>4</th>\n",
       "      <td>1</td>\n",
       "      <td>0</td>\n",
       "      <td>1–0</td>\n",
       "      <td>0-0</td>\n",
       "      <td>1</td>\n",
       "    </tr>\n",
       "    <tr>\n",
       "      <th>...</th>\n",
       "      <td>...</td>\n",
       "      <td>...</td>\n",
       "      <td>...</td>\n",
       "      <td>...</td>\n",
       "      <td>...</td>\n",
       "    </tr>\n",
       "    <tr>\n",
       "      <th>973</th>\n",
       "      <td>1</td>\n",
       "      <td>2</td>\n",
       "      <td>1–2</td>\n",
       "      <td>0-0</td>\n",
       "      <td>3</td>\n",
       "    </tr>\n",
       "    <tr>\n",
       "      <th>974</th>\n",
       "      <td>3</td>\n",
       "      <td>0</td>\n",
       "      <td>3–0</td>\n",
       "      <td>0-0</td>\n",
       "      <td>3</td>\n",
       "    </tr>\n",
       "    <tr>\n",
       "      <th>975</th>\n",
       "      <td>2</td>\n",
       "      <td>0</td>\n",
       "      <td>2–0</td>\n",
       "      <td>0-0</td>\n",
       "      <td>2</td>\n",
       "    </tr>\n",
       "    <tr>\n",
       "      <th>976</th>\n",
       "      <td>2</td>\n",
       "      <td>1</td>\n",
       "      <td>2–1</td>\n",
       "      <td>0-0</td>\n",
       "      <td>3</td>\n",
       "    </tr>\n",
       "    <tr>\n",
       "      <th>977</th>\n",
       "      <td>3</td>\n",
       "      <td>3</td>\n",
       "      <td>3–3</td>\n",
       "      <td>4–2</td>\n",
       "      <td>6</td>\n",
       "    </tr>\n",
       "  </tbody>\n",
       "</table>\n",
       "<p>978 rows × 5 columns</p>\n",
       "</div>"
      ],
      "text/plain": [
       "     home_team_score  away_team_score score score_penalties  \\\n",
       "0                  4                1   4–1             0-0   \n",
       "1                  3                0   3–0             0-0   \n",
       "2                  2                1   2–1             0-0   \n",
       "3                  3                1   3–1             0-0   \n",
       "4                  1                0   1–0             0-0   \n",
       "..               ...              ...   ...             ...   \n",
       "973                1                2   1–2             0-0   \n",
       "974                3                0   3–0             0-0   \n",
       "975                2                0   2–0             0-0   \n",
       "976                2                1   2–1             0-0   \n",
       "977                3                3   3–3             4–2   \n",
       "\n",
       "     total_goals_in_match  \n",
       "0                       5  \n",
       "1                       3  \n",
       "2                       3  \n",
       "3                       4  \n",
       "4                       1  \n",
       "..                    ...  \n",
       "973                     3  \n",
       "974                     3  \n",
       "975                     2  \n",
       "976                     3  \n",
       "977                     6  \n",
       "\n",
       "[978 rows x 5 columns]"
      ]
     },
     "execution_count": 174,
     "metadata": {},
     "output_type": "execute_result"
    }
   ],
   "source": [
    "# Calculating the total goals in the match without the penalties\n",
    "\n",
    "matches['total_goals_in_match'] = matches['home_team_score'] + matches['away_team_score']\n",
    "matches[['home_team_score', 'away_team_score', 'score','score_penalties','total_goals_in_match']]"
   ]
  },
  {
   "cell_type": "markdown",
   "metadata": {},
   "source": [
    "#### <span style=\"color:#007BF1; font-style:italic;\">Match for host feature</span>"
   ]
  },
  {
   "cell_type": "code",
   "execution_count": 175,
   "metadata": {},
   "outputs": [
    {
     "data": {
      "text/html": [
       "<div>\n",
       "<style scoped>\n",
       "    .dataframe tbody tr th:only-of-type {\n",
       "        vertical-align: middle;\n",
       "    }\n",
       "\n",
       "    .dataframe tbody tr th {\n",
       "        vertical-align: top;\n",
       "    }\n",
       "\n",
       "    .dataframe thead th {\n",
       "        text-align: right;\n",
       "    }\n",
       "</style>\n",
       "<table border=\"1\" class=\"dataframe\">\n",
       "  <thead>\n",
       "    <tr style=\"text-align: right;\">\n",
       "      <th></th>\n",
       "      <th>country_name</th>\n",
       "      <th>home_team_name</th>\n",
       "      <th>away_team_name</th>\n",
       "      <th>match_for_host</th>\n",
       "    </tr>\n",
       "  </thead>\n",
       "  <tbody>\n",
       "    <tr>\n",
       "      <th>0</th>\n",
       "      <td>Uruguay</td>\n",
       "      <td>France</td>\n",
       "      <td>Mexico</td>\n",
       "      <td>0</td>\n",
       "    </tr>\n",
       "    <tr>\n",
       "      <th>1</th>\n",
       "      <td>Uruguay</td>\n",
       "      <td>United States</td>\n",
       "      <td>Belgium</td>\n",
       "      <td>0</td>\n",
       "    </tr>\n",
       "    <tr>\n",
       "      <th>2</th>\n",
       "      <td>Uruguay</td>\n",
       "      <td>Yugoslavia</td>\n",
       "      <td>Brazil</td>\n",
       "      <td>0</td>\n",
       "    </tr>\n",
       "    <tr>\n",
       "      <th>3</th>\n",
       "      <td>Uruguay</td>\n",
       "      <td>Romania</td>\n",
       "      <td>Peru</td>\n",
       "      <td>0</td>\n",
       "    </tr>\n",
       "    <tr>\n",
       "      <th>4</th>\n",
       "      <td>Uruguay</td>\n",
       "      <td>Argentina</td>\n",
       "      <td>France</td>\n",
       "      <td>0</td>\n",
       "    </tr>\n",
       "  </tbody>\n",
       "</table>\n",
       "</div>"
      ],
      "text/plain": [
       "  country_name home_team_name away_team_name  match_for_host\n",
       "0      Uruguay         France         Mexico               0\n",
       "1      Uruguay  United States        Belgium               0\n",
       "2      Uruguay     Yugoslavia         Brazil               0\n",
       "3      Uruguay        Romania           Peru               0\n",
       "4      Uruguay      Argentina         France               0"
      ]
     },
     "execution_count": 175,
     "metadata": {},
     "output_type": "execute_result"
    }
   ],
   "source": [
    "# Create a new column called 'match_for_host' with value 1 if the Host Country plays in the matche and 0 otherwise.\n",
    "\n",
    "matches['match_for_host'] = ((matches['country_name'] == matches['home_team_name']) |\n",
    "                             (matches['country_name'] == matches['away_team_name'])).astype(int)\n",
    "matches[['country_name', 'home_team_name', 'away_team_name','match_for_host']].head()"
   ]
  },
  {
   "cell_type": "markdown",
   "metadata": {},
   "source": [
    "#### <span style=\"color:#007BF1; font-style:italic;\">Used capacity ratio feature</span>"
   ]
  },
  {
   "cell_type": "code",
   "execution_count": 176,
   "metadata": {},
   "outputs": [
    {
     "data": {
      "text/html": [
       "<div>\n",
       "<style scoped>\n",
       "    .dataframe tbody tr th:only-of-type {\n",
       "        vertical-align: middle;\n",
       "    }\n",
       "\n",
       "    .dataframe tbody tr th {\n",
       "        vertical-align: top;\n",
       "    }\n",
       "\n",
       "    .dataframe thead th {\n",
       "        text-align: right;\n",
       "    }\n",
       "</style>\n",
       "<table border=\"1\" class=\"dataframe\">\n",
       "  <thead>\n",
       "    <tr style=\"text-align: right;\">\n",
       "      <th></th>\n",
       "      <th>stadium_name</th>\n",
       "      <th>stadium_capacity</th>\n",
       "      <th>attendance</th>\n",
       "      <th>used_capacity_ratio</th>\n",
       "    </tr>\n",
       "  </thead>\n",
       "  <tbody>\n",
       "    <tr>\n",
       "      <th>0</th>\n",
       "      <td>Estadio Pocitos</td>\n",
       "      <td>10000</td>\n",
       "      <td>4444.0</td>\n",
       "      <td>0.44440</td>\n",
       "    </tr>\n",
       "    <tr>\n",
       "      <th>1</th>\n",
       "      <td>Estadio Gran Parque Central</td>\n",
       "      <td>20000</td>\n",
       "      <td>18346.0</td>\n",
       "      <td>0.91730</td>\n",
       "    </tr>\n",
       "    <tr>\n",
       "      <th>2</th>\n",
       "      <td>Estadio Gran Parque Central</td>\n",
       "      <td>20000</td>\n",
       "      <td>24059.0</td>\n",
       "      <td>1.20295</td>\n",
       "    </tr>\n",
       "    <tr>\n",
       "      <th>3</th>\n",
       "      <td>Estadio Pocitos</td>\n",
       "      <td>10000</td>\n",
       "      <td>2549.0</td>\n",
       "      <td>0.25490</td>\n",
       "    </tr>\n",
       "    <tr>\n",
       "      <th>4</th>\n",
       "      <td>Estadio Gran Parque Central</td>\n",
       "      <td>20000</td>\n",
       "      <td>23409.0</td>\n",
       "      <td>1.17045</td>\n",
       "    </tr>\n",
       "  </tbody>\n",
       "</table>\n",
       "</div>"
      ],
      "text/plain": [
       "                  stadium_name  stadium_capacity  attendance  \\\n",
       "0              Estadio Pocitos             10000      4444.0   \n",
       "1  Estadio Gran Parque Central             20000     18346.0   \n",
       "2  Estadio Gran Parque Central             20000     24059.0   \n",
       "3              Estadio Pocitos             10000      2549.0   \n",
       "4  Estadio Gran Parque Central             20000     23409.0   \n",
       "\n",
       "   used_capacity_ratio  \n",
       "0              0.44440  \n",
       "1              0.91730  \n",
       "2              1.20295  \n",
       "3              0.25490  \n",
       "4              1.17045  "
      ]
     },
     "execution_count": 176,
     "metadata": {},
     "output_type": "execute_result"
    }
   ],
   "source": [
    "# Create a new column called 'used_capacity_ratio' by Dividing 'attendance' on 'stadium_capacity'.\n",
    "matches['used_capacity_ratio'] = matches['attendance'] / matches['stadium_capacity']\n",
    "matches[['stadium_name', 'stadium_capacity', 'attendance','used_capacity_ratio']].head()"
   ]
  },
  {
   "cell_type": "markdown",
   "metadata": {},
   "source": [
    "#### <span style=\"color:#007BF1; font-style:italic;\">Attendance category feature</span>"
   ]
  },
  {
   "cell_type": "code",
   "execution_count": 177,
   "metadata": {},
   "outputs": [
    {
     "data": {
      "text/html": [
       "<div>\n",
       "<style scoped>\n",
       "    .dataframe tbody tr th:only-of-type {\n",
       "        vertical-align: middle;\n",
       "    }\n",
       "\n",
       "    .dataframe tbody tr th {\n",
       "        vertical-align: top;\n",
       "    }\n",
       "\n",
       "    .dataframe thead th {\n",
       "        text-align: right;\n",
       "    }\n",
       "</style>\n",
       "<table border=\"1\" class=\"dataframe\">\n",
       "  <thead>\n",
       "    <tr style=\"text-align: right;\">\n",
       "      <th></th>\n",
       "      <th>attendance</th>\n",
       "      <th>stadium_capacity</th>\n",
       "      <th>used_capacity_ratio</th>\n",
       "      <th>attendance_category</th>\n",
       "    </tr>\n",
       "  </thead>\n",
       "  <tbody>\n",
       "    <tr>\n",
       "      <th>0</th>\n",
       "      <td>4444.0</td>\n",
       "      <td>10000</td>\n",
       "      <td>0.44440</td>\n",
       "      <td>1k-25k</td>\n",
       "    </tr>\n",
       "    <tr>\n",
       "      <th>1</th>\n",
       "      <td>18346.0</td>\n",
       "      <td>20000</td>\n",
       "      <td>0.91730</td>\n",
       "      <td>1k-25k</td>\n",
       "    </tr>\n",
       "    <tr>\n",
       "      <th>2</th>\n",
       "      <td>24059.0</td>\n",
       "      <td>20000</td>\n",
       "      <td>1.20295</td>\n",
       "      <td>1k-25k</td>\n",
       "    </tr>\n",
       "    <tr>\n",
       "      <th>3</th>\n",
       "      <td>2549.0</td>\n",
       "      <td>10000</td>\n",
       "      <td>0.25490</td>\n",
       "      <td>1k-25k</td>\n",
       "    </tr>\n",
       "    <tr>\n",
       "      <th>4</th>\n",
       "      <td>23409.0</td>\n",
       "      <td>20000</td>\n",
       "      <td>1.17045</td>\n",
       "      <td>1k-25k</td>\n",
       "    </tr>\n",
       "  </tbody>\n",
       "</table>\n",
       "</div>"
      ],
      "text/plain": [
       "   attendance  stadium_capacity  used_capacity_ratio attendance_category\n",
       "0      4444.0             10000              0.44440              1k-25k\n",
       "1     18346.0             20000              0.91730              1k-25k\n",
       "2     24059.0             20000              1.20295              1k-25k\n",
       "3      2549.0             10000              0.25490              1k-25k\n",
       "4     23409.0             20000              1.17045              1k-25k"
      ]
     },
     "execution_count": 177,
     "metadata": {},
     "output_type": "execute_result"
    }
   ],
   "source": [
    "# Define custom bins for discretization\n",
    "bins = [0, 25000, 50000, 75000, 100000, float('inf')]\n",
    "labels = ['1k-25k', '25k-50k', '50k-75k', '75k-100k', '>100k']\n",
    "\n",
    "# Create 'attendance_category' column based on discretization\n",
    "matches['attendance_category'] = pd.cut(matches['attendance'], bins=bins, labels=labels, right=False)\n",
    "\n",
    "# Display the relevant columns\n",
    "matches[['attendance', 'stadium_capacity', 'used_capacity_ratio', 'attendance_category']].head()"
   ]
  },
  {
   "cell_type": "markdown",
   "metadata": {},
   "source": [
    "#### <span style=\"color:#007BF1; font-style:italic;\">Relative attendance category feature</span>"
   ]
  },
  {
   "cell_type": "code",
   "execution_count": 178,
   "metadata": {},
   "outputs": [
    {
     "data": {
      "text/html": [
       "<div>\n",
       "<style scoped>\n",
       "    .dataframe tbody tr th:only-of-type {\n",
       "        vertical-align: middle;\n",
       "    }\n",
       "\n",
       "    .dataframe tbody tr th {\n",
       "        vertical-align: top;\n",
       "    }\n",
       "\n",
       "    .dataframe thead th {\n",
       "        text-align: right;\n",
       "    }\n",
       "</style>\n",
       "<table border=\"1\" class=\"dataframe\">\n",
       "  <thead>\n",
       "    <tr style=\"text-align: right;\">\n",
       "      <th></th>\n",
       "      <th>attendance</th>\n",
       "      <th>stadium_capacity</th>\n",
       "      <th>used_capacity_ratio</th>\n",
       "      <th>attendance_category</th>\n",
       "      <th>relative_attendance_category</th>\n",
       "    </tr>\n",
       "  </thead>\n",
       "  <tbody>\n",
       "    <tr>\n",
       "      <th>0</th>\n",
       "      <td>4444.0</td>\n",
       "      <td>10000</td>\n",
       "      <td>0.44440</td>\n",
       "      <td>1k-25k</td>\n",
       "      <td>25%-50%</td>\n",
       "    </tr>\n",
       "    <tr>\n",
       "      <th>1</th>\n",
       "      <td>18346.0</td>\n",
       "      <td>20000</td>\n",
       "      <td>0.91730</td>\n",
       "      <td>1k-25k</td>\n",
       "      <td>75%-100%</td>\n",
       "    </tr>\n",
       "    <tr>\n",
       "      <th>2</th>\n",
       "      <td>24059.0</td>\n",
       "      <td>20000</td>\n",
       "      <td>1.20295</td>\n",
       "      <td>1k-25k</td>\n",
       "      <td>&gt;100%</td>\n",
       "    </tr>\n",
       "    <tr>\n",
       "      <th>3</th>\n",
       "      <td>2549.0</td>\n",
       "      <td>10000</td>\n",
       "      <td>0.25490</td>\n",
       "      <td>1k-25k</td>\n",
       "      <td>25%-50%</td>\n",
       "    </tr>\n",
       "    <tr>\n",
       "      <th>4</th>\n",
       "      <td>23409.0</td>\n",
       "      <td>20000</td>\n",
       "      <td>1.17045</td>\n",
       "      <td>1k-25k</td>\n",
       "      <td>&gt;100%</td>\n",
       "    </tr>\n",
       "  </tbody>\n",
       "</table>\n",
       "</div>"
      ],
      "text/plain": [
       "   attendance  stadium_capacity  used_capacity_ratio attendance_category  \\\n",
       "0      4444.0             10000              0.44440              1k-25k   \n",
       "1     18346.0             20000              0.91730              1k-25k   \n",
       "2     24059.0             20000              1.20295              1k-25k   \n",
       "3      2549.0             10000              0.25490              1k-25k   \n",
       "4     23409.0             20000              1.17045              1k-25k   \n",
       "\n",
       "  relative_attendance_category  \n",
       "0                      25%-50%  \n",
       "1                     75%-100%  \n",
       "2                        >100%  \n",
       "3                      25%-50%  \n",
       "4                        >100%  "
      ]
     },
     "execution_count": 178,
     "metadata": {},
     "output_type": "execute_result"
    }
   ],
   "source": [
    "ratio_bins = [0, 0.25, 0.5, 0.75, 1.0, float('inf')]\n",
    "ratio_labels = ['0%-25%', '25%-50%', '50%-75%', '75%-100%', '>100%']\n",
    "\n",
    "# Create 'relative_attendance_category' column based on discretization of 'used_capacity_ratio'\n",
    "matches['relative_attendance_category'] = pd.cut(matches['used_capacity_ratio'], bins=ratio_bins, labels=ratio_labels, right=False)\n",
    "\n",
    "# Display the relevant columns\n",
    "matches[['attendance', 'stadium_capacity', 'used_capacity_ratio', 'attendance_category', 'relative_attendance_category']].head()"
   ]
  },
  {
   "cell_type": "code",
   "execution_count": 179,
   "metadata": {},
   "outputs": [
    {
     "data": {
      "text/plain": [
       "match_for_host                     int32\n",
       "relative_attendance_category    category\n",
       "dtype: object"
      ]
     },
     "execution_count": 179,
     "metadata": {},
     "output_type": "execute_result"
    }
   ],
   "source": [
    "matches[['match_for_host', 'relative_attendance_category']].dtypes"
   ]
  },
  {
   "cell_type": "markdown",
   "metadata": {},
   "source": [
    "#### <span style=\"color:#007BF1; font-style:italic;\">Host country code</span>"
   ]
  },
  {
   "cell_type": "code",
   "execution_count": 180,
   "metadata": {},
   "outputs": [],
   "source": [
    "# create a dictionary that maps each country name to its code\n",
    "country_codes = {'Algeria': 'DZA', 'Argentina': 'ARG', 'Australia': 'AUS',\n",
    "                 'Austria': 'AUT', 'Belgium': 'BEL', 'Bosnia and Herzegovina': 'BIH',\n",
    "                 'Brazil': 'BRA', 'Cameroon': 'CMR', 'Chile': 'CHL', 'China PR': 'CHN',\n",
    "                 'Colombia': 'COL', 'Costa Rica': 'CRI', 'Croatia': 'HRV', 'Czech Republic': 'CZE',\n",
    "                 'Denmark': 'DNK', 'Ecuador': 'ECU', 'Egypt': 'EGY', 'England': 'ENG',\n",
    "                 'France': 'FRA', 'Germany': 'DEU', 'Ghana': 'GHA', 'Greece': 'GRC', 'Honduras': 'HND',\n",
    "                 'Hungary': 'HUN', 'Iran': 'IRN', 'Iraq': 'IRQ', 'Italy': 'ITA', 'Ivory Coast': 'CIV',\n",
    "                 'Japan': 'JPN', 'Korea DPR': 'PRK', 'Korea Republic': 'KOR', 'Mexico': 'MEX', 'Morocco': 'MAR',\n",
    "                 'Netherlands': 'NLD', 'New Zealand': 'NZL', 'Nigeria': 'NGA', 'Northern Ireland': 'NIR',\n",
    "                 'Norway': 'NOR', 'Paraguay': 'PRY', 'Peru': 'PER', 'Poland': 'POL', 'Portugal': 'PRT',\n",
    "                 'Republic of Ireland': 'IRL', 'Romania': 'ROU', 'Russia': 'RUS', 'Saudi Arabia': 'SAU',\n",
    "                 'Scotland': 'SCO', 'Senegal': 'SEN', 'Serbia': 'SRB', 'Slovakia': 'SVK', 'Slovenia': 'SVN',\n",
    "                 'South Africa': 'ZAF', 'Spain': 'ESP', 'Sweden': 'SWE', 'Switzerland': 'CHE', 'Tunisia': 'TUN',\n",
    "                 'Turkey': 'TUR', 'Ukraine': 'UKR', 'United Arab Emirates': 'ARE', 'United States': 'USA',\n",
    "                 'Uruguay': 'URY', 'Wales': 'WAL'}"
   ]
  },
  {
   "cell_type": "code",
   "execution_count": 181,
   "metadata": {},
   "outputs": [
    {
     "data": {
      "text/html": [
       "<div>\n",
       "<style scoped>\n",
       "    .dataframe tbody tr th:only-of-type {\n",
       "        vertical-align: middle;\n",
       "    }\n",
       "\n",
       "    .dataframe tbody tr th {\n",
       "        vertical-align: top;\n",
       "    }\n",
       "\n",
       "    .dataframe thead th {\n",
       "        text-align: right;\n",
       "    }\n",
       "</style>\n",
       "<table border=\"1\" class=\"dataframe\">\n",
       "  <thead>\n",
       "    <tr style=\"text-align: right;\">\n",
       "      <th></th>\n",
       "      <th>country_name</th>\n",
       "      <th>host_country_code</th>\n",
       "    </tr>\n",
       "  </thead>\n",
       "  <tbody>\n",
       "    <tr>\n",
       "      <th>0</th>\n",
       "      <td>Uruguay</td>\n",
       "      <td>URY</td>\n",
       "    </tr>\n",
       "    <tr>\n",
       "      <th>1</th>\n",
       "      <td>Uruguay</td>\n",
       "      <td>URY</td>\n",
       "    </tr>\n",
       "    <tr>\n",
       "      <th>2</th>\n",
       "      <td>Uruguay</td>\n",
       "      <td>URY</td>\n",
       "    </tr>\n",
       "    <tr>\n",
       "      <th>3</th>\n",
       "      <td>Uruguay</td>\n",
       "      <td>URY</td>\n",
       "    </tr>\n",
       "    <tr>\n",
       "      <th>4</th>\n",
       "      <td>Uruguay</td>\n",
       "      <td>URY</td>\n",
       "    </tr>\n",
       "  </tbody>\n",
       "</table>\n",
       "</div>"
      ],
      "text/plain": [
       "  country_name host_country_code\n",
       "0      Uruguay               URY\n",
       "1      Uruguay               URY\n",
       "2      Uruguay               URY\n",
       "3      Uruguay               URY\n",
       "4      Uruguay               URY"
      ]
     },
     "execution_count": 181,
     "metadata": {},
     "output_type": "execute_result"
    }
   ],
   "source": [
    "# applying 'host_country_code' in matches dataframe\n",
    "matches['host_country_code'] = matches['country_name'].map(country_codes)\n",
    "matches[['country_name', 'host_country_code']].head()"
   ]
  },
  {
   "cell_type": "markdown",
   "metadata": {},
   "source": [
    "<span style=\"display:inline-block;\">applying <span style=\"color:#007BF1; font-style:italic;\">host_country_code</span> feature for other dataframes</span>"
   ]
  },
  {
   "cell_type": "code",
   "execution_count": 182,
   "metadata": {},
   "outputs": [
    {
     "data": {
      "text/html": [
       "<div>\n",
       "<style scoped>\n",
       "    .dataframe tbody tr th:only-of-type {\n",
       "        vertical-align: middle;\n",
       "    }\n",
       "\n",
       "    .dataframe tbody tr th {\n",
       "        vertical-align: top;\n",
       "    }\n",
       "\n",
       "    .dataframe thead th {\n",
       "        text-align: right;\n",
       "    }\n",
       "</style>\n",
       "<table border=\"1\" class=\"dataframe\">\n",
       "  <thead>\n",
       "    <tr style=\"text-align: right;\">\n",
       "      <th></th>\n",
       "      <th>country_name</th>\n",
       "      <th>host_country_code</th>\n",
       "    </tr>\n",
       "  </thead>\n",
       "  <tbody>\n",
       "    <tr>\n",
       "      <th>0</th>\n",
       "      <td>Argentina</td>\n",
       "      <td>ARG</td>\n",
       "    </tr>\n",
       "    <tr>\n",
       "      <th>1</th>\n",
       "      <td>Argentina</td>\n",
       "      <td>ARG</td>\n",
       "    </tr>\n",
       "    <tr>\n",
       "      <th>2</th>\n",
       "      <td>Argentina</td>\n",
       "      <td>ARG</td>\n",
       "    </tr>\n",
       "    <tr>\n",
       "      <th>3</th>\n",
       "      <td>Argentina</td>\n",
       "      <td>ARG</td>\n",
       "    </tr>\n",
       "    <tr>\n",
       "      <th>4</th>\n",
       "      <td>Argentina</td>\n",
       "      <td>ARG</td>\n",
       "    </tr>\n",
       "  </tbody>\n",
       "</table>\n",
       "</div>"
      ],
      "text/plain": [
       "  country_name host_country_code\n",
       "0    Argentina               ARG\n",
       "1    Argentina               ARG\n",
       "2    Argentina               ARG\n",
       "3    Argentina               ARG\n",
       "4    Argentina               ARG"
      ]
     },
     "execution_count": 182,
     "metadata": {},
     "output_type": "execute_result"
    }
   ],
   "source": [
    "# tournaments dataframe\n",
    "tournaments['host_country_code'] = tournaments['host_country'].map(country_codes)\n",
    "\n",
    "# stadiums dataframe\n",
    "stadiums['host_country_code'] = stadiums['country_name'].map(country_codes)\n",
    "stadiums[['country_name', 'host_country_code']].head()"
   ]
  },
  {
   "cell_type": "markdown",
   "metadata": {},
   "source": [
    "#### <span style=\"color:#007BF1;font-style:italic;\">Tournament year feature</span>"
   ]
  },
  {
   "cell_type": "code",
   "execution_count": 183,
   "metadata": {},
   "outputs": [
    {
     "data": {
      "text/html": [
       "<div>\n",
       "<style scoped>\n",
       "    .dataframe tbody tr th:only-of-type {\n",
       "        vertical-align: middle;\n",
       "    }\n",
       "\n",
       "    .dataframe tbody tr th {\n",
       "        vertical-align: top;\n",
       "    }\n",
       "\n",
       "    .dataframe thead th {\n",
       "        text-align: right;\n",
       "    }\n",
       "</style>\n",
       "<table border=\"1\" class=\"dataframe\">\n",
       "  <thead>\n",
       "    <tr style=\"text-align: right;\">\n",
       "      <th></th>\n",
       "      <th>tournament_id</th>\n",
       "      <th>tournament_name</th>\n",
       "      <th>tournament_year</th>\n",
       "    </tr>\n",
       "  </thead>\n",
       "  <tbody>\n",
       "    <tr>\n",
       "      <th>0</th>\n",
       "      <td>WC-1930</td>\n",
       "      <td>1930 FIFA World Cup</td>\n",
       "      <td>1930</td>\n",
       "    </tr>\n",
       "    <tr>\n",
       "      <th>1</th>\n",
       "      <td>WC-1930</td>\n",
       "      <td>1930 FIFA World Cup</td>\n",
       "      <td>1930</td>\n",
       "    </tr>\n",
       "    <tr>\n",
       "      <th>2</th>\n",
       "      <td>WC-1930</td>\n",
       "      <td>1930 FIFA World Cup</td>\n",
       "      <td>1930</td>\n",
       "    </tr>\n",
       "    <tr>\n",
       "      <th>3</th>\n",
       "      <td>WC-1930</td>\n",
       "      <td>1930 FIFA World Cup</td>\n",
       "      <td>1930</td>\n",
       "    </tr>\n",
       "    <tr>\n",
       "      <th>4</th>\n",
       "      <td>WC-1930</td>\n",
       "      <td>1930 FIFA World Cup</td>\n",
       "      <td>1930</td>\n",
       "    </tr>\n",
       "  </tbody>\n",
       "</table>\n",
       "</div>"
      ],
      "text/plain": [
       "  tournament_id      tournament_name  tournament_year\n",
       "0       WC-1930  1930 FIFA World Cup             1930\n",
       "1       WC-1930  1930 FIFA World Cup             1930\n",
       "2       WC-1930  1930 FIFA World Cup             1930\n",
       "3       WC-1930  1930 FIFA World Cup             1930\n",
       "4       WC-1930  1930 FIFA World Cup             1930"
      ]
     },
     "execution_count": 183,
     "metadata": {},
     "output_type": "execute_result"
    }
   ],
   "source": [
    "# Exrecting the year as numerical value from the 'tournament_id' column and creating 'tournament_year'.\n",
    "matches['tournament_year'] = matches['tournament_id'].str[-4:].astype(int)\n",
    "matches[['tournament_id','tournament_name','tournament_year']].head()"
   ]
  },
  {
   "cell_type": "markdown",
   "metadata": {},
   "source": [
    "<span style=\"display:inline-block;\">applying <span style=\"color:#007BF1; font-style:italic;\">tournament_year</span> feature for other dataframes</span>"
   ]
  },
  {
   "cell_type": "code",
   "execution_count": 184,
   "metadata": {},
   "outputs": [
    {
     "data": {
      "text/html": [
       "<div>\n",
       "<style scoped>\n",
       "    .dataframe tbody tr th:only-of-type {\n",
       "        vertical-align: middle;\n",
       "    }\n",
       "\n",
       "    .dataframe tbody tr th {\n",
       "        vertical-align: top;\n",
       "    }\n",
       "\n",
       "    .dataframe thead th {\n",
       "        text-align: right;\n",
       "    }\n",
       "</style>\n",
       "<table border=\"1\" class=\"dataframe\">\n",
       "  <thead>\n",
       "    <tr style=\"text-align: right;\">\n",
       "      <th></th>\n",
       "      <th>tournament_id</th>\n",
       "      <th>tournament_year</th>\n",
       "    </tr>\n",
       "  </thead>\n",
       "  <tbody>\n",
       "    <tr>\n",
       "      <th>0</th>\n",
       "      <td>WC-1930</td>\n",
       "      <td>1930</td>\n",
       "    </tr>\n",
       "    <tr>\n",
       "      <th>1</th>\n",
       "      <td>WC-1930</td>\n",
       "      <td>1930</td>\n",
       "    </tr>\n",
       "    <tr>\n",
       "      <th>2</th>\n",
       "      <td>WC-1930</td>\n",
       "      <td>1930</td>\n",
       "    </tr>\n",
       "    <tr>\n",
       "      <th>3</th>\n",
       "      <td>WC-1930</td>\n",
       "      <td>1930</td>\n",
       "    </tr>\n",
       "    <tr>\n",
       "      <th>4</th>\n",
       "      <td>WC-1930</td>\n",
       "      <td>1930</td>\n",
       "    </tr>\n",
       "  </tbody>\n",
       "</table>\n",
       "</div>"
      ],
      "text/plain": [
       "  tournament_id  tournament_year\n",
       "0       WC-1930             1930\n",
       "1       WC-1930             1930\n",
       "2       WC-1930             1930\n",
       "3       WC-1930             1930\n",
       "4       WC-1930             1930"
      ]
     },
     "execution_count": 184,
     "metadata": {},
     "output_type": "execute_result"
    }
   ],
   "source": [
    "# squads dataframe\n",
    "squads['tournament_year'] = squads['tournament_id'].str[-4:].astype(int)\n",
    "\n",
    "# attendance dataframe\n",
    "attendance['tournament_year'] = pd.to_datetime(attendance['match_date']).dt.year\n",
    "\n",
    "# goals dataframe\n",
    "goals['tournament_year'] = goals['tournament_id'].str[-4:].astype(int)\n",
    "goals[['tournament_id','tournament_year']].head()"
   ]
  },
  {
   "cell_type": "markdown",
   "metadata": {},
   "source": [
    "#### <span style=\"color:#007BF1; font-style:italic;\">full name feature</span>"
   ]
  },
  {
   "cell_type": "code",
   "execution_count": 185,
   "metadata": {},
   "outputs": [
    {
     "data": {
      "text/html": [
       "<div>\n",
       "<style scoped>\n",
       "    .dataframe tbody tr th:only-of-type {\n",
       "        vertical-align: middle;\n",
       "    }\n",
       "\n",
       "    .dataframe tbody tr th {\n",
       "        vertical-align: top;\n",
       "    }\n",
       "\n",
       "    .dataframe thead th {\n",
       "        text-align: right;\n",
       "    }\n",
       "</style>\n",
       "<table border=\"1\" class=\"dataframe\">\n",
       "  <thead>\n",
       "    <tr style=\"text-align: right;\">\n",
       "      <th></th>\n",
       "      <th>given_name</th>\n",
       "      <th>family_name</th>\n",
       "      <th>full_name</th>\n",
       "    </tr>\n",
       "  </thead>\n",
       "  <tbody>\n",
       "    <tr>\n",
       "      <th>0</th>\n",
       "      <td>Alan</td>\n",
       "      <td>A'Court</td>\n",
       "      <td>Alan A'Court</td>\n",
       "    </tr>\n",
       "    <tr>\n",
       "      <th>1</th>\n",
       "      <td>Brenden</td>\n",
       "      <td>Aaronson</td>\n",
       "      <td>Brenden Aaronson</td>\n",
       "    </tr>\n",
       "    <tr>\n",
       "      <th>2</th>\n",
       "      <td>Stefan</td>\n",
       "      <td>Abadzhiev</td>\n",
       "      <td>Stefan Abadzhiev</td>\n",
       "    </tr>\n",
       "    <tr>\n",
       "      <th>3</th>\n",
       "      <td>Jean-Paul</td>\n",
       "      <td>Abalo</td>\n",
       "      <td>Jean-Paul Abalo</td>\n",
       "    </tr>\n",
       "    <tr>\n",
       "      <th>4</th>\n",
       "      <td>Patrice</td>\n",
       "      <td>Abanda</td>\n",
       "      <td>Patrice Abanda</td>\n",
       "    </tr>\n",
       "  </tbody>\n",
       "</table>\n",
       "</div>"
      ],
      "text/plain": [
       "  given_name family_name         full_name\n",
       "0       Alan     A'Court      Alan A'Court\n",
       "1    Brenden    Aaronson  Brenden Aaronson\n",
       "2     Stefan   Abadzhiev  Stefan Abadzhiev\n",
       "3  Jean-Paul       Abalo   Jean-Paul Abalo\n",
       "4    Patrice      Abanda    Patrice Abanda"
      ]
     },
     "execution_count": 185,
     "metadata": {},
     "output_type": "execute_result"
    }
   ],
   "source": [
    "# full name is concatination between the gvien name and the family name\n",
    "players_teams['full_name'] = players_teams['given_name'] + ' ' + players_teams['family_name']\n",
    "players_teams[['given_name','family_name','full_name']].head()"
   ]
  },
  {
   "cell_type": "markdown",
   "metadata": {},
   "source": [
    "<span style=\"display:inline-block;\">applying <span style=\"color:#007BF1; font-style:italic;\">full_name</span> feature for other dataframes</span>"
   ]
  },
  {
   "cell_type": "code",
   "execution_count": 186,
   "metadata": {},
   "outputs": [
    {
     "data": {
      "text/html": [
       "<div>\n",
       "<style scoped>\n",
       "    .dataframe tbody tr th:only-of-type {\n",
       "        vertical-align: middle;\n",
       "    }\n",
       "\n",
       "    .dataframe tbody tr th {\n",
       "        vertical-align: top;\n",
       "    }\n",
       "\n",
       "    .dataframe thead th {\n",
       "        text-align: right;\n",
       "    }\n",
       "</style>\n",
       "<table border=\"1\" class=\"dataframe\">\n",
       "  <thead>\n",
       "    <tr style=\"text-align: right;\">\n",
       "      <th></th>\n",
       "      <th>given_name</th>\n",
       "      <th>family_name</th>\n",
       "      <th>full_name</th>\n",
       "    </tr>\n",
       "  </thead>\n",
       "  <tbody>\n",
       "    <tr>\n",
       "      <th>0</th>\n",
       "      <td>Lucien</td>\n",
       "      <td>Laurent</td>\n",
       "      <td>Lucien Laurent</td>\n",
       "    </tr>\n",
       "    <tr>\n",
       "      <th>1</th>\n",
       "      <td>Marcel</td>\n",
       "      <td>Langiller</td>\n",
       "      <td>Marcel Langiller</td>\n",
       "    </tr>\n",
       "    <tr>\n",
       "      <th>2</th>\n",
       "      <td>André</td>\n",
       "      <td>Maschinot</td>\n",
       "      <td>André Maschinot</td>\n",
       "    </tr>\n",
       "    <tr>\n",
       "      <th>3</th>\n",
       "      <td>Juan</td>\n",
       "      <td>Carreño</td>\n",
       "      <td>Juan Carreño</td>\n",
       "    </tr>\n",
       "    <tr>\n",
       "      <th>4</th>\n",
       "      <td>André</td>\n",
       "      <td>Maschinot</td>\n",
       "      <td>André Maschinot</td>\n",
       "    </tr>\n",
       "  </tbody>\n",
       "</table>\n",
       "</div>"
      ],
      "text/plain": [
       "  given_name family_name         full_name\n",
       "0     Lucien     Laurent    Lucien Laurent\n",
       "1     Marcel   Langiller  Marcel Langiller\n",
       "2      André   Maschinot   André Maschinot\n",
       "3       Juan     Carreño      Juan Carreño\n",
       "4      André   Maschinot   André Maschinot"
      ]
     },
     "execution_count": 186,
     "metadata": {},
     "output_type": "execute_result"
    }
   ],
   "source": [
    "# players dataframe\n",
    "players['full_name'] = players['given_name'] + ' ' + players['family_name']\n",
    "\n",
    "# squads dataframe\n",
    "squads['full_name'] = squads['given_name'] + ' ' + squads['family_name']\n",
    "\n",
    "# goals dataframe\n",
    "goals['full_name'] = goals['given_name'] + ' ' + goals['family_name']\n",
    "goals[['given_name','family_name','full_name']].head()"
   ]
  },
  {
   "cell_type": "markdown",
   "metadata": {},
   "source": [
    "#### <span style=\"color:#007BF1; font-style:italic;\">Short stage name feature</span>"
   ]
  },
  {
   "cell_type": "code",
   "execution_count": 187,
   "metadata": {},
   "outputs": [
    {
     "data": {
      "text/html": [
       "<div>\n",
       "<style scoped>\n",
       "    .dataframe tbody tr th:only-of-type {\n",
       "        vertical-align: middle;\n",
       "    }\n",
       "\n",
       "    .dataframe tbody tr th {\n",
       "        vertical-align: top;\n",
       "    }\n",
       "\n",
       "    .dataframe thead th {\n",
       "        text-align: right;\n",
       "    }\n",
       "</style>\n",
       "<table border=\"1\" class=\"dataframe\">\n",
       "  <thead>\n",
       "    <tr style=\"text-align: right;\">\n",
       "      <th></th>\n",
       "      <th>group_stage</th>\n",
       "      <th>knockout_stage</th>\n",
       "      <th>short_stage_name</th>\n",
       "    </tr>\n",
       "  </thead>\n",
       "  <tbody>\n",
       "    <tr>\n",
       "      <th>0</th>\n",
       "      <td>1</td>\n",
       "      <td>0</td>\n",
       "      <td>group stage</td>\n",
       "    </tr>\n",
       "    <tr>\n",
       "      <th>1</th>\n",
       "      <td>1</td>\n",
       "      <td>0</td>\n",
       "      <td>group stage</td>\n",
       "    </tr>\n",
       "    <tr>\n",
       "      <th>2</th>\n",
       "      <td>1</td>\n",
       "      <td>0</td>\n",
       "      <td>group stage</td>\n",
       "    </tr>\n",
       "    <tr>\n",
       "      <th>3</th>\n",
       "      <td>1</td>\n",
       "      <td>0</td>\n",
       "      <td>group stage</td>\n",
       "    </tr>\n",
       "    <tr>\n",
       "      <th>4</th>\n",
       "      <td>1</td>\n",
       "      <td>0</td>\n",
       "      <td>group stage</td>\n",
       "    </tr>\n",
       "    <tr>\n",
       "      <th>...</th>\n",
       "      <td>...</td>\n",
       "      <td>...</td>\n",
       "      <td>...</td>\n",
       "    </tr>\n",
       "    <tr>\n",
       "      <th>973</th>\n",
       "      <td>0</td>\n",
       "      <td>1</td>\n",
       "      <td>knockout stage</td>\n",
       "    </tr>\n",
       "    <tr>\n",
       "      <th>974</th>\n",
       "      <td>0</td>\n",
       "      <td>1</td>\n",
       "      <td>knockout stage</td>\n",
       "    </tr>\n",
       "    <tr>\n",
       "      <th>975</th>\n",
       "      <td>0</td>\n",
       "      <td>1</td>\n",
       "      <td>knockout stage</td>\n",
       "    </tr>\n",
       "    <tr>\n",
       "      <th>976</th>\n",
       "      <td>0</td>\n",
       "      <td>1</td>\n",
       "      <td>knockout stage</td>\n",
       "    </tr>\n",
       "    <tr>\n",
       "      <th>977</th>\n",
       "      <td>0</td>\n",
       "      <td>1</td>\n",
       "      <td>knockout stage</td>\n",
       "    </tr>\n",
       "  </tbody>\n",
       "</table>\n",
       "<p>978 rows × 3 columns</p>\n",
       "</div>"
      ],
      "text/plain": [
       "     group_stage  knockout_stage short_stage_name\n",
       "0              1               0      group stage\n",
       "1              1               0      group stage\n",
       "2              1               0      group stage\n",
       "3              1               0      group stage\n",
       "4              1               0      group stage\n",
       "..           ...             ...              ...\n",
       "973            0               1   knockout stage\n",
       "974            0               1   knockout stage\n",
       "975            0               1   knockout stage\n",
       "976            0               1   knockout stage\n",
       "977            0               1   knockout stage\n",
       "\n",
       "[978 rows x 3 columns]"
      ]
     },
     "execution_count": 187,
     "metadata": {},
     "output_type": "execute_result"
    }
   ],
   "source": [
    "matches['short_stage_name'] = matches.apply(lambda x: 'group stage' if x['group_stage'] == 1 \n",
    "                                            else 'knockout stage' if x['knockout_stage'] == 1 else '', axis=1)\n",
    "matches[['group_stage','knockout_stage','short_stage_name']]"
   ]
  },
  {
   "cell_type": "markdown",
   "metadata": {},
   "source": [
    "#### <span style=\"color:#007BF1; font-style:italic;\">Winner code feature</span>"
   ]
  },
  {
   "cell_type": "code",
   "execution_count": 188,
   "metadata": {},
   "outputs": [
    {
     "data": {
      "text/html": [
       "<div>\n",
       "<style scoped>\n",
       "    .dataframe tbody tr th:only-of-type {\n",
       "        vertical-align: middle;\n",
       "    }\n",
       "\n",
       "    .dataframe tbody tr th {\n",
       "        vertical-align: top;\n",
       "    }\n",
       "\n",
       "    .dataframe thead th {\n",
       "        text-align: right;\n",
       "    }\n",
       "</style>\n",
       "<table border=\"1\" class=\"dataframe\">\n",
       "  <thead>\n",
       "    <tr style=\"text-align: right;\">\n",
       "      <th></th>\n",
       "      <th>winner</th>\n",
       "      <th>winner_code</th>\n",
       "    </tr>\n",
       "  </thead>\n",
       "  <tbody>\n",
       "    <tr>\n",
       "      <th>0</th>\n",
       "      <td>Uruguay</td>\n",
       "      <td>URY</td>\n",
       "    </tr>\n",
       "    <tr>\n",
       "      <th>1</th>\n",
       "      <td>Italy</td>\n",
       "      <td>ITA</td>\n",
       "    </tr>\n",
       "    <tr>\n",
       "      <th>2</th>\n",
       "      <td>Italy</td>\n",
       "      <td>ITA</td>\n",
       "    </tr>\n",
       "    <tr>\n",
       "      <th>3</th>\n",
       "      <td>Uruguay</td>\n",
       "      <td>URY</td>\n",
       "    </tr>\n",
       "    <tr>\n",
       "      <th>4</th>\n",
       "      <td>West Germany</td>\n",
       "      <td>NaN</td>\n",
       "    </tr>\n",
       "  </tbody>\n",
       "</table>\n",
       "</div>"
      ],
      "text/plain": [
       "         winner winner_code\n",
       "0       Uruguay         URY\n",
       "1         Italy         ITA\n",
       "2         Italy         ITA\n",
       "3       Uruguay         URY\n",
       "4  West Germany         NaN"
      ]
     },
     "execution_count": 188,
     "metadata": {},
     "output_type": "execute_result"
    }
   ],
   "source": [
    "tournaments['winner_code'] = tournaments['winner'].map(country_codes)\n",
    "tournaments[['winner', 'winner_code']].head()"
   ]
  },
  {
   "cell_type": "markdown",
   "metadata": {},
   "source": [
    "#### <span style=\"color:#007BF1; font-style:italic;\">Late goal feature</span>"
   ]
  },
  {
   "cell_type": "code",
   "execution_count": 189,
   "metadata": {},
   "outputs": [
    {
     "data": {
      "text/html": [
       "<div>\n",
       "<style scoped>\n",
       "    .dataframe tbody tr th:only-of-type {\n",
       "        vertical-align: middle;\n",
       "    }\n",
       "\n",
       "    .dataframe tbody tr th {\n",
       "        vertical-align: top;\n",
       "    }\n",
       "\n",
       "    .dataframe thead th {\n",
       "        text-align: right;\n",
       "    }\n",
       "</style>\n",
       "<table border=\"1\" class=\"dataframe\">\n",
       "  <thead>\n",
       "    <tr style=\"text-align: right;\">\n",
       "      <th></th>\n",
       "      <th>minute_label</th>\n",
       "      <th>minute_regulation</th>\n",
       "      <th>minute_stoppage</th>\n",
       "      <th>match_period</th>\n",
       "      <th>late_goal</th>\n",
       "    </tr>\n",
       "  </thead>\n",
       "  <tbody>\n",
       "    <tr>\n",
       "      <th>0</th>\n",
       "      <td>19'</td>\n",
       "      <td>19</td>\n",
       "      <td>0</td>\n",
       "      <td>first half</td>\n",
       "      <td>False</td>\n",
       "    </tr>\n",
       "    <tr>\n",
       "      <th>1</th>\n",
       "      <td>40'</td>\n",
       "      <td>40</td>\n",
       "      <td>0</td>\n",
       "      <td>first half</td>\n",
       "      <td>True</td>\n",
       "    </tr>\n",
       "    <tr>\n",
       "      <th>2</th>\n",
       "      <td>43'</td>\n",
       "      <td>43</td>\n",
       "      <td>0</td>\n",
       "      <td>first half</td>\n",
       "      <td>True</td>\n",
       "    </tr>\n",
       "    <tr>\n",
       "      <th>3</th>\n",
       "      <td>70'</td>\n",
       "      <td>70</td>\n",
       "      <td>0</td>\n",
       "      <td>second half</td>\n",
       "      <td>False</td>\n",
       "    </tr>\n",
       "    <tr>\n",
       "      <th>4</th>\n",
       "      <td>87'</td>\n",
       "      <td>87</td>\n",
       "      <td>0</td>\n",
       "      <td>second half</td>\n",
       "      <td>True</td>\n",
       "    </tr>\n",
       "  </tbody>\n",
       "</table>\n",
       "</div>"
      ],
      "text/plain": [
       "  minute_label  minute_regulation  minute_stoppage match_period  late_goal\n",
       "0          19'                 19                0   first half      False\n",
       "1          40'                 40                0   first half       True\n",
       "2          43'                 43                0   first half       True\n",
       "3          70'                 70                0  second half      False\n",
       "4          87'                 87                0  second half       True"
      ]
     },
     "execution_count": 189,
     "metadata": {},
     "output_type": "execute_result"
    }
   ],
   "source": [
    "thresholds = {\n",
    "    'first half': 40,\n",
    "    'second half': 85,\n",
    "    'first half, stoppage time': 45,\n",
    "    'second half, stoppage time': 90,\n",
    "    'extra time, first half': 97,\n",
    "    'extra time, second half': 112,\n",
    "    'extra time, first half, stoppage time': 105,\n",
    "    'extra time, second half, stoppage time': 120\n",
    "}\n",
    "\n",
    "def is_late_goal(row):\n",
    "    period = row['match_period']\n",
    "    threshold = thresholds[period]\n",
    "    minute = row['minute_stoppage'] if row['minute_stoppage'] > 0 else row['minute_regulation']\n",
    "    return minute >= threshold\n",
    "\n",
    "\n",
    "goals['late_goal'] = goals.apply(is_late_goal, axis=1)\n",
    "goals[['minute_label','minute_regulation', 'minute_stoppage','match_period','late_goal']].head()"
   ]
  },
  {
   "cell_type": "markdown",
   "metadata": {},
   "source": [
    "### Save the processed data"
   ]
  },
  {
   "cell_type": "code",
   "execution_count": 190,
   "metadata": {},
   "outputs": [],
   "source": [
    "matches.to_csv(PROCESSED/'matches.csv', index=False)\n",
    "players_teams.to_csv(PROCESSED/'players_teams.csv', index=False)\n",
    "attendance.to_csv(PROCESSED/'attendance.csv', index=False)\n",
    "stadiums.to_csv(PROCESSED/'stadiums.csv', index=False)\n",
    "players.to_csv(PROCESSED/'players.csv', index=False)\n",
    "squads.to_csv(PROCESSED/'squads.csv', index=False)\n",
    "tournaments.to_csv(PROCESSED/'tournaments.csv', index=False)\n",
    "goals.to_csv(PROCESSED/'goals.csv', index=False)"
   ]
  }
 ],
 "metadata": {
  "kernelspec": {
   "display_name": ".venv",
   "language": "python",
   "name": "python3"
  },
  "language_info": {
   "codemirror_mode": {
    "name": "ipython",
    "version": 3
   },
   "file_extension": ".py",
   "mimetype": "text/x-python",
   "name": "python",
   "nbconvert_exporter": "python",
   "pygments_lexer": "ipython3",
   "version": "3.9.21"
  }
 },
 "nbformat": 4,
 "nbformat_minor": 2
}
